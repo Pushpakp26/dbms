{
 "cells": [
  {
   "cell_type": "code",
   "execution_count": 17,
   "id": "01c6ba55",
   "metadata": {},
   "outputs": [],
   "source": [
    "import re\n",
    "import pdfplumber\n",
    "import pandas as pd\n",
    "from collections import namedtuple"
   ]
  },
  {
   "cell_type": "code",
   "execution_count": 153,
   "id": "c50d55c7",
   "metadata": {},
   "outputs": [],
   "source": [
    "#pip install pdfplumber"
   ]
  },
  {
   "cell_type": "code",
   "execution_count": 154,
   "id": "0a698bec",
   "metadata": {},
   "outputs": [],
   "source": [
    "#Line = namedtuple('Line',['v','m'])"
   ]
  },
  {
   "cell_type": "code",
   "execution_count": 2,
   "id": "2139dcbe",
   "metadata": {},
   "outputs": [],
   "source": [
    "Line = namedtuple('Line', 'college_code college_name branch_code branch_name status_category open_percentile')"
   ]
  },
  {
   "cell_type": "code",
   "execution_count": 3,
   "id": "e1fe5446",
   "metadata": {},
   "outputs": [],
   "source": [
    "college_re = re.compile(r'^(\\d{4})\\s-\\s(.*)')"
   ]
  },
  {
   "cell_type": "code",
   "execution_count": 12,
   "id": "2ffa592b",
   "metadata": {},
   "outputs": [
    {
     "data": {
      "text/plain": [
       "'1002'"
      ]
     },
     "execution_count": 12,
     "metadata": {},
     "output_type": "execute_result"
    }
   ],
   "source": [
    "college_re.search('1002 - Government College of Engineering, Amravati').group(1)"
   ]
  },
  {
   "cell_type": "code",
   "execution_count": 13,
   "id": "ab67fb7f",
   "metadata": {},
   "outputs": [
    {
     "data": {
      "text/plain": [
       "'Government College of Engineering, Amravati'"
      ]
     },
     "execution_count": 13,
     "metadata": {},
     "output_type": "execute_result"
    }
   ],
   "source": [
    "college_re.search('1002 - Government College of Engineering, Amravati').group(2)"
   ]
  },
  {
   "cell_type": "code",
   "execution_count": 14,
   "id": "bed98e5f",
   "metadata": {},
   "outputs": [],
   "source": [
    "branch_re = re.compile(r'(\\d{9})\\s-\\s(.*)')"
   ]
  },
  {
   "cell_type": "code",
   "execution_count": 15,
   "id": "5df9dff2",
   "metadata": {},
   "outputs": [
    {
     "data": {
      "text/plain": [
       "'Civil Engineering'"
      ]
     },
     "execution_count": 15,
     "metadata": {},
     "output_type": "execute_result"
    }
   ],
   "source": [
    "branch_re.search('100219110 - Civil Engineering').group(2)"
   ]
  },
  {
   "cell_type": "code",
   "execution_count": 16,
   "id": "dc1cb072",
   "metadata": {},
   "outputs": [],
   "source": [
    "status_re = re.compile(r'Status:\\s(.*)')"
   ]
  },
  {
   "cell_type": "code",
   "execution_count": 17,
   "id": "ded13ddf",
   "metadata": {},
   "outputs": [
    {
     "data": {
      "text/plain": [
       "'Government Autonomous'"
      ]
     },
     "execution_count": 17,
     "metadata": {},
     "output_type": "execute_result"
    }
   ],
   "source": [
    "status_re.search('Status: Government Autonomous').group(1)"
   ]
  },
  {
   "cell_type": "code",
   "execution_count": 18,
   "id": "b15a0701",
   "metadata": {},
   "outputs": [],
   "source": [
    "open_percentile_re = re.compile(r'\\(([0-9]*)\\.([0-9]*)\\)')"
   ]
  },
  {
   "cell_type": "code",
   "execution_count": 19,
   "id": "efe3192b",
   "metadata": {},
   "outputs": [
    {
     "data": {
      "text/plain": [
       "<re.Match object; span=(0, 12), match='(85.7691222)'>"
      ]
     },
     "execution_count": 19,
     "metadata": {},
     "output_type": "execute_result"
    }
   ],
   "source": [
    "open_percentile_re.search('(85.7691222)')"
   ]
  },
  {
   "cell_type": "code",
   "execution_count": 20,
   "id": "b0d5c453",
   "metadata": {},
   "outputs": [],
   "source": [
    "college1 = Line('1002','Government College of Engineering, Amravati','100219110','Civil Engineering','Government Autonomous','(85.7691222)')"
   ]
  },
  {
   "cell_type": "code",
   "execution_count": 21,
   "id": "55f15842",
   "metadata": {},
   "outputs": [
    {
     "data": {
      "text/plain": [
       "'(85.7691222)'"
      ]
     },
     "execution_count": 21,
     "metadata": {},
     "output_type": "execute_result"
    }
   ],
   "source": [
    "college1.open_percentile\n"
   ]
  },
  {
   "cell_type": "code",
   "execution_count": 22,
   "id": "abf12fc2",
   "metadata": {},
   "outputs": [],
   "source": [
    "file = 'mhtcet.pdf'"
   ]
  },
  {
   "cell_type": "code",
   "execution_count": 23,
   "id": "be0ad7c0",
   "metadata": {},
   "outputs": [
    {
     "data": {
      "text/plain": [
       "'mhtcet.pdf'"
      ]
     },
     "execution_count": 23,
     "metadata": {},
     "output_type": "execute_result"
    }
   ],
   "source": [
    "file"
   ]
  },
  {
   "cell_type": "code",
   "execution_count": null,
   "id": "c3d2cefa",
   "metadata": {
    "scrolled": true
   },
   "outputs": [],
   "source": [
    "lines = []\n",
    "\n",
    "with pdfplumber.open(file) as pdf:\n",
    "    pages = pdf.pages\n",
    "    for page in pdf.pages:\n",
    "        text = page.extract_text()\n",
    "        for line in text.split('\\n'):\n",
    "            clg = college_re.search(line)\n",
    "            branch = branch_re.search(line)\n",
    "            status = status_re.search(line)\n",
    "            open_percent = open_percentile_re.search(line)\n",
    "            if clg:\n",
    "                college_id, college_name = clg.group(1), clg.group(2)\n",
    "            elif branch:\n",
    "                branch_id, branch_name = branch.group(1), branch.group(2)\n",
    "            elif status:\n",
    "                status_category = status.group(1)\n",
    "            elif open_percent:\n",
    "                open_percentile = open_percent.group(1)+'.'+open_percent.group(2)\n",
    "                lines.append(Line(college_id, college_name, branch_id, branch_name, status_category, open_percentile))"
   ]
  },
  {
   "cell_type": "code",
   "execution_count": null,
   "id": "78b3e460",
   "metadata": {},
   "outputs": [],
   "source": [
    "clg"
   ]
  },
  {
   "cell_type": "code",
   "execution_count": null,
   "id": "9e5664e0",
   "metadata": {},
   "outputs": [],
   "source": [
    "text"
   ]
  },
  {
   "cell_type": "code",
   "execution_count": null,
   "id": "86fe66f5",
   "metadata": {},
   "outputs": [],
   "source": [
    "lines[:5]"
   ]
  },
  {
   "cell_type": "code",
   "execution_count": null,
   "id": "0a75e485",
   "metadata": {},
   "outputs": [],
   "source": [
    "df = pd.DataFrame(lines)"
   ]
  },
  {
   "cell_type": "code",
   "execution_count": null,
   "id": "9bd1e00e",
   "metadata": {},
   "outputs": [],
   "source": [
    "df.head()"
   ]
  },
  {
   "cell_type": "code",
   "execution_count": null,
   "id": "2289b01d",
   "metadata": {},
   "outputs": [],
   "source": [
    "df.to_csv('mhtcet.csv',index=False)"
   ]
  },
  {
   "cell_type": "code",
   "execution_count": null,
   "id": "14d2e79e",
   "metadata": {},
   "outputs": [],
   "source": []
  },
  {
   "cell_type": "code",
   "execution_count": null,
   "id": "112300de",
   "metadata": {},
   "outputs": [],
   "source": []
  },
  {
   "cell_type": "code",
   "execution_count": 1,
   "id": "069b5a3c",
   "metadata": {},
   "outputs": [],
   "source": [
    "import pandas as pd\n",
    "import numpy as np"
   ]
  },
  {
   "cell_type": "code",
   "execution_count": 3,
   "id": "60773135",
   "metadata": {},
   "outputs": [],
   "source": [
    "df = pd.read_csv('mhtcet.csv')"
   ]
  },
  {
   "cell_type": "code",
   "execution_count": 4,
   "id": "cd24b7b3",
   "metadata": {},
   "outputs": [
    {
     "data": {
      "text/html": [
       "<div>\n",
       "<style scoped>\n",
       "    .dataframe tbody tr th:only-of-type {\n",
       "        vertical-align: middle;\n",
       "    }\n",
       "\n",
       "    .dataframe tbody tr th {\n",
       "        vertical-align: top;\n",
       "    }\n",
       "\n",
       "    .dataframe thead th {\n",
       "        text-align: right;\n",
       "    }\n",
       "</style>\n",
       "<table border=\"1\" class=\"dataframe\">\n",
       "  <thead>\n",
       "    <tr style=\"text-align: right;\">\n",
       "      <th></th>\n",
       "      <th>college_code</th>\n",
       "      <th>college_name</th>\n",
       "      <th>branch_code</th>\n",
       "      <th>branch_name</th>\n",
       "      <th>status_category</th>\n",
       "      <th>open_percentile</th>\n",
       "    </tr>\n",
       "  </thead>\n",
       "  <tbody>\n",
       "    <tr>\n",
       "      <th>0</th>\n",
       "      <td>1002</td>\n",
       "      <td>Government College of Engineering, Amravati</td>\n",
       "      <td>100219110</td>\n",
       "      <td>Civil Engineering</td>\n",
       "      <td>Government Autonomous</td>\n",
       "      <td>85.769122</td>\n",
       "    </tr>\n",
       "    <tr>\n",
       "      <th>1</th>\n",
       "      <td>1002</td>\n",
       "      <td>Government College of Engineering, Amravati</td>\n",
       "      <td>100224210</td>\n",
       "      <td>Computer Science and Engineering</td>\n",
       "      <td>Government Autonomous</td>\n",
       "      <td>96.832857</td>\n",
       "    </tr>\n",
       "    <tr>\n",
       "      <th>2</th>\n",
       "      <td>1002</td>\n",
       "      <td>Government College of Engineering, Amravati</td>\n",
       "      <td>100224610</td>\n",
       "      <td>Information Technology</td>\n",
       "      <td>Government Autonomous</td>\n",
       "      <td>95.395102</td>\n",
       "    </tr>\n",
       "    <tr>\n",
       "      <th>3</th>\n",
       "      <td>1002</td>\n",
       "      <td>Government College of Engineering, Amravati</td>\n",
       "      <td>100229310</td>\n",
       "      <td>Electrical Engineering</td>\n",
       "      <td>Government Autonomous</td>\n",
       "      <td>87.943896</td>\n",
       "    </tr>\n",
       "    <tr>\n",
       "      <th>4</th>\n",
       "      <td>1002</td>\n",
       "      <td>Government College of Engineering, Amravati</td>\n",
       "      <td>100237210</td>\n",
       "      <td>Electronics and Telecommunication Engg</td>\n",
       "      <td>Government Autonomous</td>\n",
       "      <td>92.204245</td>\n",
       "    </tr>\n",
       "  </tbody>\n",
       "</table>\n",
       "</div>"
      ],
      "text/plain": [
       "   college_code                                 college_name  branch_code  \\\n",
       "0          1002  Government College of Engineering, Amravati    100219110   \n",
       "1          1002  Government College of Engineering, Amravati    100224210   \n",
       "2          1002  Government College of Engineering, Amravati    100224610   \n",
       "3          1002  Government College of Engineering, Amravati    100229310   \n",
       "4          1002  Government College of Engineering, Amravati    100237210   \n",
       "\n",
       "                              branch_name        status_category  \\\n",
       "0                       Civil Engineering  Government Autonomous   \n",
       "1        Computer Science and Engineering  Government Autonomous   \n",
       "2                  Information Technology  Government Autonomous   \n",
       "3                  Electrical Engineering  Government Autonomous   \n",
       "4  Electronics and Telecommunication Engg  Government Autonomous   \n",
       "\n",
       "   open_percentile  \n",
       "0        85.769122  \n",
       "1        96.832857  \n",
       "2        95.395102  \n",
       "3        87.943896  \n",
       "4        92.204245  "
      ]
     },
     "execution_count": 4,
     "metadata": {},
     "output_type": "execute_result"
    }
   ],
   "source": [
    "df.head()"
   ]
  },
  {
   "cell_type": "code",
   "execution_count": 8,
   "id": "90c5ef9d",
   "metadata": {},
   "outputs": [
    {
     "data": {
      "text/plain": [
       "329"
      ]
     },
     "execution_count": 8,
     "metadata": {},
     "output_type": "execute_result"
    }
   ],
   "source": [
    "df['college_name'].nunique()"
   ]
  },
  {
   "cell_type": "code",
   "execution_count": 25,
   "id": "aa7849dc",
   "metadata": {},
   "outputs": [],
   "source": [
    "rey = re.compile(r'(VidyaNiketan)(.*)')"
   ]
  },
  {
   "cell_type": "code",
   "execution_count": 26,
   "id": "ac1c8afc",
   "metadata": {},
   "outputs": [
    {
     "data": {
      "text/plain": [
       "'VidyaNiketan'"
      ]
     },
     "execution_count": 26,
     "metadata": {},
     "output_type": "execute_result"
    }
   ],
   "source": [
    "rey.search('VidyaNiketan College Of Engineering').group(1)"
   ]
  },
  {
   "cell_type": "code",
   "execution_count": 38,
   "id": "2361eb20",
   "metadata": {},
   "outputs": [
    {
     "data": {
      "text/plain": [
       "382"
      ]
     },
     "execution_count": 38,
     "metadata": {},
     "output_type": "execute_result"
    }
   ],
   "source": [
    "len(df[df['college_name'].str.count(r'(Vid)(.*)')>0])"
   ]
  },
  {
   "cell_type": "code",
   "execution_count": 37,
   "id": "a55f5df2",
   "metadata": {
    "scrolled": true
   },
   "outputs": [
    {
     "name": "stdout",
     "output_type": "stream",
     "text": [
      "<class 'pandas.core.frame.DataFrame'>\n",
      "RangeIndex: 5279 entries, 0 to 5278\n",
      "Data columns (total 2 columns):\n",
      " #   Column  Non-Null Count  Dtype \n",
      "---  ------  --------------  ----- \n",
      " 0   0       0 non-null      object\n",
      " 1   1       0 non-null      object\n",
      "dtypes: object(2)\n",
      "memory usage: 82.6+ KB\n"
     ]
    }
   ],
   "source": [
    "k.info()"
   ]
  },
  {
   "cell_type": "code",
   "execution_count": null,
   "id": "24eb1438",
   "metadata": {},
   "outputs": [],
   "source": []
  }
 ],
 "metadata": {
  "kernelspec": {
   "display_name": "Python 3",
   "language": "python",
   "name": "python3"
  },
  "language_info": {
   "codemirror_mode": {
    "name": "ipython",
    "version": 3
   },
   "file_extension": ".py",
   "mimetype": "text/x-python",
   "name": "python",
   "nbconvert_exporter": "python",
   "pygments_lexer": "ipython3",
   "version": "3.8.8"
  }
 },
 "nbformat": 4,
 "nbformat_minor": 5
}
