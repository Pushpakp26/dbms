{
 "cells": [
  {
   "cell_type": "code",
   "execution_count": 1,
   "id": "01c6ba55",
   "metadata": {},
   "outputs": [],
   "source": [
    "import re\n",
    "import pdfplumber\n",
    "import pandas as pd\n",
    "from collections import namedtuple"
   ]
  },
  {
   "cell_type": "code",
   "execution_count": 153,
   "id": "c50d55c7",
   "metadata": {},
   "outputs": [],
   "source": [
    "#pip install pdfplumber"
   ]
  },
  {
   "cell_type": "code",
   "execution_count": 154,
   "id": "0a698bec",
   "metadata": {},
   "outputs": [],
   "source": [
    "#Line = namedtuple('Line',['v','m'])"
   ]
  },
  {
   "cell_type": "code",
   "execution_count": 155,
   "id": "2139dcbe",
   "metadata": {},
   "outputs": [],
   "source": [
    "Line = namedtuple('Line', 'college_code college_name branch_code branch_name status_category open_percentile')"
   ]
  },
  {
   "cell_type": "code",
   "execution_count": 156,
   "id": "e1fe5446",
   "metadata": {},
   "outputs": [],
   "source": [
    "college_re = re.compile(r'^(\\d{4})\\s-\\s(.*)')"
   ]
  },
  {
   "cell_type": "code",
   "execution_count": 157,
   "id": "ab67fb7f",
   "metadata": {},
   "outputs": [
    {
     "data": {
      "text/plain": [
       "'Government College of Engineering, Amravati'"
      ]
     },
     "execution_count": 157,
     "metadata": {},
     "output_type": "execute_result"
    }
   ],
   "source": [
    "college_re.search('1002 - Government College of Engineering, Amravati').group(2)"
   ]
  },
  {
   "cell_type": "code",
   "execution_count": 158,
   "id": "bed98e5f",
   "metadata": {},
   "outputs": [],
   "source": [
    "branch_re = re.compile(r'(\\d{9})\\s-\\s(.*)')"
   ]
  },
  {
   "cell_type": "code",
   "execution_count": 159,
   "id": "5df9dff2",
   "metadata": {},
   "outputs": [
    {
     "data": {
      "text/plain": [
       "'Civil Engineering'"
      ]
     },
     "execution_count": 159,
     "metadata": {},
     "output_type": "execute_result"
    }
   ],
   "source": [
    "branch_re.search('100219110 - Civil Engineering').group(2)"
   ]
  },
  {
   "cell_type": "code",
   "execution_count": 160,
   "id": "dc1cb072",
   "metadata": {},
   "outputs": [],
   "source": [
    "status_re = re.compile(r'Status:\\s(.*)')"
   ]
  },
  {
   "cell_type": "code",
   "execution_count": 161,
   "id": "ded13ddf",
   "metadata": {},
   "outputs": [
    {
     "data": {
      "text/plain": [
       "'Government Autonomous'"
      ]
     },
     "execution_count": 161,
     "metadata": {},
     "output_type": "execute_result"
    }
   ],
   "source": [
    "status_re.search('Status: Government Autonomous').group(1)"
   ]
  },
  {
   "cell_type": "code",
   "execution_count": 162,
   "id": "b15a0701",
   "metadata": {},
   "outputs": [],
   "source": [
    "open_percentile_re = re.compile(r'\\(([0-9]*)\\.([0-9]*)\\)')"
   ]
  },
  {
   "cell_type": "code",
   "execution_count": 163,
   "id": "efe3192b",
   "metadata": {},
   "outputs": [
    {
     "data": {
      "text/plain": [
       "<re.Match object; span=(0, 12), match='(85.7691222)'>"
      ]
     },
     "execution_count": 163,
     "metadata": {},
     "output_type": "execute_result"
    }
   ],
   "source": [
    "open_percentile_re.search('(85.7691222)')"
   ]
  },
  {
   "cell_type": "code",
   "execution_count": 164,
   "id": "b0d5c453",
   "metadata": {},
   "outputs": [],
   "source": [
    "college1 = Line('1002','Government College of Engineering, Amravati','100219110','Civil Engineering','Government Autonomous','(85.7691222)')"
   ]
  },
  {
   "cell_type": "code",
   "execution_count": 165,
   "id": "55f15842",
   "metadata": {},
   "outputs": [
    {
     "data": {
      "text/plain": [
       "'(85.7691222)'"
      ]
     },
     "execution_count": 165,
     "metadata": {},
     "output_type": "execute_result"
    }
   ],
   "source": [
    "college1.open_percentile\n"
   ]
  },
  {
   "cell_type": "code",
   "execution_count": 166,
   "id": "abf12fc2",
   "metadata": {},
   "outputs": [],
   "source": [
    "file = 'mhtcet.pdf'"
   ]
  },
  {
   "cell_type": "code",
   "execution_count": 167,
   "id": "be0ad7c0",
   "metadata": {},
   "outputs": [
    {
     "data": {
      "text/plain": [
       "'mhtcet.pdf'"
      ]
     },
     "execution_count": 167,
     "metadata": {},
     "output_type": "execute_result"
    }
   ],
   "source": [
    "file"
   ]
  },
  {
   "cell_type": "code",
   "execution_count": 168,
   "id": "c3d2cefa",
   "metadata": {},
   "outputs": [],
   "source": [
    "lines = []\n",
    "\n",
    "with pdfplumber.open(file) as pdf:\n",
    "    pages = pdf.pages\n",
    "    for page in pdf.pages:\n",
    "        text = page.extract_text()\n",
    "        for line in text.split('\\n'):\n",
    "            clg = college_re.search(line)\n",
    "            branch = branch_re.search(line)\n",
    "            status = status_re.search(line)\n",
    "            open_percent = open_percentile_re.search(line)\n",
    "            if clg:\n",
    "                college_id, college_name = clg.group(1), clg.group(2)\n",
    "            elif branch:\n",
    "                branch_id, branch_name = branch.group(1), branch.group(2)\n",
    "            elif status:\n",
    "                status_category = status.group(1)\n",
    "            elif open_percent:\n",
    "                open_percentile = open_percent.group(1)+'.'+open_percent.group(2)\n",
    "                lines.append(Line(college_id, college_name, branch_id, branch_name, status_category, open_percentile))"
   ]
  },
  {
   "cell_type": "code",
   "execution_count": 169,
   "id": "78b3e460",
   "metadata": {},
   "outputs": [],
   "source": [
    "clg"
   ]
  },
  {
   "cell_type": "code",
   "execution_count": 170,
   "id": "9e5664e0",
   "metadata": {},
   "outputs": [
    {
     "data": {
      "text/plain": [
       "\"D Government of Maharashtra\\ni State Common Entrance Test Cell\\nr Cut Off List of All India Seats CAP Round I for Admission to First Year of Four Year Full Time Degree Courses in Engineering and Technology for the Academic Year 2021-22\\n6938 - Shree Siddheshwar Women's College Of Engineering Solapur.\\n693892550F - Computer Science and Engineering (Artificial Intelligence and Data Science)\\nStatus: Un-Aided\\nHome University Seats Allotted to Home University Candidates\\nStage LOPENH\\n  I 97541\\n(6.5584481)\\nOther Than Home University Seats Allotted to Other Than Home University Candidates\\nStage LOPENO\\n  I 62379\\n(52.2112775)\\nOther Than Home University Seats Allotted to Home University Candidates\\nStage LOPENO\\n  I 96596\\n(8.1817268)\\nState Level\\nStage EWS\\n  I 77392\\n(36.4202981)\\nCut Off Indicates All India Merit No.; Figures in bracket Indicates JEE(Main) Score/MHT-CET Percentile.; AI to AI-All India Seats Allotted to All India Candidature Candidates.\\n1\""
      ]
     },
     "execution_count": 170,
     "metadata": {},
     "output_type": "execute_result"
    }
   ],
   "source": [
    "text"
   ]
  },
  {
   "cell_type": "code",
   "execution_count": 171,
   "id": "86fe66f5",
   "metadata": {},
   "outputs": [
    {
     "data": {
      "text/plain": [
       "[Line(college_code='1002', college_name='Government College of Engineering, Amravati', branch_code='100219110', branch_name='Civil Engineering', status_category='Government Autonomous', open_percentile='85.7691222'),\n",
       " Line(college_code='1002', college_name='Government College of Engineering, Amravati', branch_code='100224210', branch_name='Computer Science and Engineering', status_category='Government Autonomous', open_percentile='96.8328566'),\n",
       " Line(college_code='1002', college_name='Government College of Engineering, Amravati', branch_code='100224610', branch_name='Information Technology', status_category='Government Autonomous', open_percentile='95.3951022'),\n",
       " Line(college_code='1002', college_name='Government College of Engineering, Amravati', branch_code='100229310', branch_name='Electrical Engineering', status_category='Government Autonomous', open_percentile='87.9438958'),\n",
       " Line(college_code='1002', college_name='Government College of Engineering, Amravati', branch_code='100237210', branch_name='Electronics and Telecommunication Engg', status_category='Government Autonomous', open_percentile='92.2042446')]"
      ]
     },
     "execution_count": 171,
     "metadata": {},
     "output_type": "execute_result"
    }
   ],
   "source": [
    "lines[:5]"
   ]
  },
  {
   "cell_type": "code",
   "execution_count": 172,
   "id": "0a75e485",
   "metadata": {},
   "outputs": [],
   "source": [
    "df = pd.DataFrame(lines)"
   ]
  },
  {
   "cell_type": "code",
   "execution_count": 173,
   "id": "9bd1e00e",
   "metadata": {},
   "outputs": [
    {
     "data": {
      "text/html": [
       "<div>\n",
       "<style scoped>\n",
       "    .dataframe tbody tr th:only-of-type {\n",
       "        vertical-align: middle;\n",
       "    }\n",
       "\n",
       "    .dataframe tbody tr th {\n",
       "        vertical-align: top;\n",
       "    }\n",
       "\n",
       "    .dataframe thead th {\n",
       "        text-align: right;\n",
       "    }\n",
       "</style>\n",
       "<table border=\"1\" class=\"dataframe\">\n",
       "  <thead>\n",
       "    <tr style=\"text-align: right;\">\n",
       "      <th></th>\n",
       "      <th>college_code</th>\n",
       "      <th>college_name</th>\n",
       "      <th>branch_code</th>\n",
       "      <th>branch_name</th>\n",
       "      <th>status_category</th>\n",
       "      <th>open_percentile</th>\n",
       "    </tr>\n",
       "  </thead>\n",
       "  <tbody>\n",
       "    <tr>\n",
       "      <th>0</th>\n",
       "      <td>1002</td>\n",
       "      <td>Government College of Engineering, Amravati</td>\n",
       "      <td>100219110</td>\n",
       "      <td>Civil Engineering</td>\n",
       "      <td>Government Autonomous</td>\n",
       "      <td>85.7691222</td>\n",
       "    </tr>\n",
       "    <tr>\n",
       "      <th>1</th>\n",
       "      <td>1002</td>\n",
       "      <td>Government College of Engineering, Amravati</td>\n",
       "      <td>100224210</td>\n",
       "      <td>Computer Science and Engineering</td>\n",
       "      <td>Government Autonomous</td>\n",
       "      <td>96.8328566</td>\n",
       "    </tr>\n",
       "    <tr>\n",
       "      <th>2</th>\n",
       "      <td>1002</td>\n",
       "      <td>Government College of Engineering, Amravati</td>\n",
       "      <td>100224610</td>\n",
       "      <td>Information Technology</td>\n",
       "      <td>Government Autonomous</td>\n",
       "      <td>95.3951022</td>\n",
       "    </tr>\n",
       "    <tr>\n",
       "      <th>3</th>\n",
       "      <td>1002</td>\n",
       "      <td>Government College of Engineering, Amravati</td>\n",
       "      <td>100229310</td>\n",
       "      <td>Electrical Engineering</td>\n",
       "      <td>Government Autonomous</td>\n",
       "      <td>87.9438958</td>\n",
       "    </tr>\n",
       "    <tr>\n",
       "      <th>4</th>\n",
       "      <td>1002</td>\n",
       "      <td>Government College of Engineering, Amravati</td>\n",
       "      <td>100237210</td>\n",
       "      <td>Electronics and Telecommunication Engg</td>\n",
       "      <td>Government Autonomous</td>\n",
       "      <td>92.2042446</td>\n",
       "    </tr>\n",
       "  </tbody>\n",
       "</table>\n",
       "</div>"
      ],
      "text/plain": [
       "  college_code                                 college_name branch_code  \\\n",
       "0         1002  Government College of Engineering, Amravati   100219110   \n",
       "1         1002  Government College of Engineering, Amravati   100224210   \n",
       "2         1002  Government College of Engineering, Amravati   100224610   \n",
       "3         1002  Government College of Engineering, Amravati   100229310   \n",
       "4         1002  Government College of Engineering, Amravati   100237210   \n",
       "\n",
       "                              branch_name        status_category  \\\n",
       "0                       Civil Engineering  Government Autonomous   \n",
       "1        Computer Science and Engineering  Government Autonomous   \n",
       "2                  Information Technology  Government Autonomous   \n",
       "3                  Electrical Engineering  Government Autonomous   \n",
       "4  Electronics and Telecommunication Engg  Government Autonomous   \n",
       "\n",
       "  open_percentile  \n",
       "0      85.7691222  \n",
       "1      96.8328566  \n",
       "2      95.3951022  \n",
       "3      87.9438958  \n",
       "4      92.2042446  "
      ]
     },
     "execution_count": 173,
     "metadata": {},
     "output_type": "execute_result"
    }
   ],
   "source": [
    "df.head()"
   ]
  },
  {
   "cell_type": "code",
   "execution_count": 174,
   "id": "2289b01d",
   "metadata": {},
   "outputs": [],
   "source": [
    "df.to_csv('mhtcet.csv',index=False)"
   ]
  },
  {
   "cell_type": "code",
   "execution_count": null,
   "id": "069b5a3c",
   "metadata": {},
   "outputs": [],
   "source": []
  },
  {
   "cell_type": "code",
   "execution_count": null,
   "id": "60773135",
   "metadata": {},
   "outputs": [],
   "source": []
  },
  {
   "cell_type": "code",
   "execution_count": null,
   "id": "90c5ef9d",
   "metadata": {},
   "outputs": [],
   "source": []
  },
  {
   "cell_type": "code",
   "execution_count": null,
   "id": "aa7849dc",
   "metadata": {},
   "outputs": [],
   "source": []
  }
 ],
 "metadata": {
  "kernelspec": {
   "display_name": "Python 3",
   "language": "python",
   "name": "python3"
  },
  "language_info": {
   "codemirror_mode": {
    "name": "ipython",
    "version": 3
   },
   "file_extension": ".py",
   "mimetype": "text/x-python",
   "name": "python",
   "nbconvert_exporter": "python",
   "pygments_lexer": "ipython3",
   "version": "3.8.8"
  }
 },
 "nbformat": 4,
 "nbformat_minor": 5
}
