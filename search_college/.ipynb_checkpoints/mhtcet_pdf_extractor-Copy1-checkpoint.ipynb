{
 "cells": [
  {
   "cell_type": "code",
   "execution_count": 1,
   "id": "01c6ba55",
   "metadata": {},
   "outputs": [],
   "source": [
    "import re\n",
    "import pdfplumber\n",
    "import pandas as pd\n",
    "from collections import namedtuple"
   ]
  },
  {
   "cell_type": "code",
   "execution_count": 153,
   "id": "c50d55c7",
   "metadata": {},
   "outputs": [],
   "source": [
    "#pip install pdfplumber"
   ]
  },
  {
   "cell_type": "code",
   "execution_count": 154,
   "id": "0a698bec",
   "metadata": {},
   "outputs": [],
   "source": [
    "#Line = namedtuple('Line',['v','m'])"
   ]
  },
  {
   "cell_type": "code",
   "execution_count": 2,
   "id": "2139dcbe",
   "metadata": {},
   "outputs": [],
   "source": [
    "Line = namedtuple('Line', 'college_code college_name branch_code branch_name status_category open_percentile')"
   ]
  },
  {
   "cell_type": "code",
   "execution_count": 3,
   "id": "e1fe5446",
   "metadata": {},
   "outputs": [],
   "source": [
    "college_re = re.compile(r'^(\\d{4})\\s-\\s(.*)')"
   ]
  },
  {
   "cell_type": "code",
   "execution_count": 12,
   "id": "2ffa592b",
   "metadata": {},
   "outputs": [
    {
     "data": {
      "text/plain": [
       "'1002'"
      ]
     },
     "execution_count": 12,
     "metadata": {},
     "output_type": "execute_result"
    }
   ],
   "source": [
    "college_re.search('1002 - Government College of Engineering, Amravati').group(1)"
   ]
  },
  {
   "cell_type": "code",
   "execution_count": 13,
   "id": "ab67fb7f",
   "metadata": {},
   "outputs": [
    {
     "data": {
      "text/plain": [
       "'Government College of Engineering, Amravati'"
      ]
     },
     "execution_count": 13,
     "metadata": {},
     "output_type": "execute_result"
    }
   ],
   "source": [
    "college_re.search('1002 - Government College of Engineering, Amravati').group(2)"
   ]
  },
  {
   "cell_type": "code",
   "execution_count": 14,
   "id": "bed98e5f",
   "metadata": {},
   "outputs": [],
   "source": [
    "branch_re = re.compile(r'(\\d{9})\\s-\\s(.*)')"
   ]
  },
  {
   "cell_type": "code",
   "execution_count": 15,
   "id": "5df9dff2",
   "metadata": {},
   "outputs": [
    {
     "data": {
      "text/plain": [
       "'Civil Engineering'"
      ]
     },
     "execution_count": 15,
     "metadata": {},
     "output_type": "execute_result"
    }
   ],
   "source": [
    "branch_re.search('100219110 - Civil Engineering').group(2)"
   ]
  },
  {
   "cell_type": "code",
   "execution_count": 16,
   "id": "dc1cb072",
   "metadata": {},
   "outputs": [],
   "source": [
    "status_re = re.compile(r'Status:\\s(.*)')"
   ]
  },
  {
   "cell_type": "code",
   "execution_count": 17,
   "id": "ded13ddf",
   "metadata": {},
   "outputs": [
    {
     "data": {
      "text/plain": [
       "'Government Autonomous'"
      ]
     },
     "execution_count": 17,
     "metadata": {},
     "output_type": "execute_result"
    }
   ],
   "source": [
    "status_re.search('Status: Government Autonomous').group(1)"
   ]
  },
  {
   "cell_type": "code",
   "execution_count": 18,
   "id": "b15a0701",
   "metadata": {},
   "outputs": [],
   "source": [
    "open_percentile_re = re.compile(r'\\(([0-9]*)\\.([0-9]*)\\)')"
   ]
  },
  {
   "cell_type": "code",
   "execution_count": 19,
   "id": "efe3192b",
   "metadata": {},
   "outputs": [
    {
     "data": {
      "text/plain": [
       "<re.Match object; span=(0, 12), match='(85.7691222)'>"
      ]
     },
     "execution_count": 19,
     "metadata": {},
     "output_type": "execute_result"
    }
   ],
   "source": [
    "open_percentile_re.search('(85.7691222)')"
   ]
  },
  {
   "cell_type": "code",
   "execution_count": 20,
   "id": "b0d5c453",
   "metadata": {},
   "outputs": [],
   "source": [
    "college1 = Line('1002','Government College of Engineering, Amravati','100219110','Civil Engineering','Government Autonomous','(85.7691222)')"
   ]
  },
  {
   "cell_type": "code",
   "execution_count": 21,
   "id": "55f15842",
   "metadata": {},
   "outputs": [
    {
     "data": {
      "text/plain": [
       "'(85.7691222)'"
      ]
     },
     "execution_count": 21,
     "metadata": {},
     "output_type": "execute_result"
    }
   ],
   "source": [
    "college1.open_percentile\n"
   ]
  },
  {
   "cell_type": "code",
   "execution_count": 22,
   "id": "abf12fc2",
   "metadata": {},
   "outputs": [],
   "source": [
    "file = 'mhtcet.pdf'"
   ]
  },
  {
   "cell_type": "code",
   "execution_count": 23,
   "id": "be0ad7c0",
   "metadata": {},
   "outputs": [
    {
     "data": {
      "text/plain": [
       "'mhtcet.pdf'"
      ]
     },
     "execution_count": 23,
     "metadata": {},
     "output_type": "execute_result"
    }
   ],
   "source": [
    "file"
   ]
  },
  {
   "cell_type": "code",
   "execution_count": null,
   "id": "c3d2cefa",
   "metadata": {
    "scrolled": true
   },
   "outputs": [],
   "source": [
    "lines = []\n",
    "\n",
    "with pdfplumber.open(file) as pdf:\n",
    "    pages = pdf.pages\n",
    "    for page in pdf.pages:\n",
    "        text = page.extract_text()\n",
    "        for line in text.split('\\n'):\n",
    "            clg = college_re.search(line)\n",
    "            branch = branch_re.search(line)\n",
    "            status = status_re.search(line)\n",
    "            open_percent = open_percentile_re.search(line)\n",
    "            if clg:\n",
    "                college_id, college_name = clg.group(1), clg.group(2)\n",
    "            elif branch:\n",
    "                branch_id, branch_name = branch.group(1), branch.group(2)\n",
    "            elif status:\n",
    "                status_category = status.group(1)\n",
    "            elif open_percent:\n",
    "                open_percentile = open_percent.group(1)+'.'+open_percent.group(2)\n",
    "                lines.append(Line(college_id, college_name, branch_id, branch_name, status_category, open_percentile))"
   ]
  },
  {
   "cell_type": "code",
   "execution_count": null,
   "id": "78b3e460",
   "metadata": {},
   "outputs": [],
   "source": [
    "clg"
   ]
  },
  {
   "cell_type": "code",
   "execution_count": null,
   "id": "9e5664e0",
   "metadata": {},
   "outputs": [],
   "source": [
    "text"
   ]
  },
  {
   "cell_type": "code",
   "execution_count": null,
   "id": "86fe66f5",
   "metadata": {},
   "outputs": [],
   "source": [
    "lines[:5]"
   ]
  },
  {
   "cell_type": "code",
   "execution_count": null,
   "id": "0a75e485",
   "metadata": {},
   "outputs": [],
   "source": [
    "df = pd.DataFrame(lines)"
   ]
  },
  {
   "cell_type": "code",
   "execution_count": null,
   "id": "9bd1e00e",
   "metadata": {},
   "outputs": [],
   "source": [
    "df.head()"
   ]
  },
  {
   "cell_type": "code",
   "execution_count": null,
   "id": "2289b01d",
   "metadata": {},
   "outputs": [],
   "source": [
    "df.to_csv('mhtcet.csv',index=False)"
   ]
  },
  {
   "cell_type": "code",
   "execution_count": null,
   "id": "069b5a3c",
   "metadata": {},
   "outputs": [],
   "source": []
  },
  {
   "cell_type": "code",
   "execution_count": null,
   "id": "60773135",
   "metadata": {},
   "outputs": [],
   "source": []
  },
  {
   "cell_type": "code",
   "execution_count": null,
   "id": "90c5ef9d",
   "metadata": {},
   "outputs": [],
   "source": []
  },
  {
   "cell_type": "code",
   "execution_count": null,
   "id": "aa7849dc",
   "metadata": {},
   "outputs": [],
   "source": []
  }
 ],
 "metadata": {
  "kernelspec": {
   "display_name": "Python 3",
   "language": "python",
   "name": "python3"
  },
  "language_info": {
   "codemirror_mode": {
    "name": "ipython",
    "version": 3
   },
   "file_extension": ".py",
   "mimetype": "text/x-python",
   "name": "python",
   "nbconvert_exporter": "python",
   "pygments_lexer": "ipython3",
   "version": "3.8.8"
  }
 },
 "nbformat": 4,
 "nbformat_minor": 5
}
